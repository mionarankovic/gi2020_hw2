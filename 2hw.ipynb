{
 "cells": [
  {
   "cell_type": "code",
   "execution_count": 1,
   "metadata": {},
   "outputs": [
    {
     "name": "stdout",
     "output_type": "stream",
     "text": [
      "Total number of reads: 2921629 \n",
      "\n",
      "Flag value of 1st read: 1187\n",
      "Flag value of 2nd read: 163\n",
      "Flag value of 3rd read: 99 \n",
      "\n",
      "26th read\n",
      "Query name: C0HVYACXX120402:1:2202:14412:197582\n",
      "Sequence: ATGTGCCATTCTGATTTAAACTGCTTATTAGTTAAAAACCTCAAGATAACATCTGGGTTCTTAGCTGCAATGAGTC\n",
      "Flag: 99\n",
      "Reference ID: 20\n",
      "Reference start: 9483301\n",
      "Mapping quality: 0\n",
      "Cigar: [(0, 76)]\n",
      "Next ref ID: 20\n",
      "Next ref start: 9483329\n",
      "Query qualities: array('B', [32, 28, 30, 29, 36, 38, 37, 35, 31, 35, 40, 36, 38, 34, 31, 34, 33, 32, 36, 36, 40, 36, 40, 39, 36, 34, 30, 31, 34, 32, 41, 31, 34, 32, 36, 36, 36, 37, 41, 37, 36, 41, 35, 35, 41, 34, 32, 32, 37, 40, 35, 32, 42, 36, 41, 37, 37, 31, 31, 42, 37, 34, 31, 41, 40, 37, 41, 40, 35, 37, 33, 37, 31, 32, 31, 35])\n",
      "Tags: [('BD', 'NNNNNNNNNNNNNNNNNNNNNNNNNNNNNNNNNNNNNNNNNNNNNNNNNNNNNNNNNNNNNNNNNNNNNNNNNNNN'), ('MD', '37C38'), ('RG', '1'), ('BI', 'NNNNNNNNNNNNNNNNNNNNNNNNNNNNNNNNNNNNNNNNNNNNNNNNNNNNNNNNNNNNNNNNNNNNNNNNNNNN'), ('NM', 1), ('MQ', 0), ('AS', 71), ('XS', 71)] \n",
      "\n",
      "Unmapped reads: 17765\n",
      "Reads with mapping quality 0: 126628\n",
      "Average mapping quality: 55.91379158681681\n",
      "Average mapping quality, 0 quality filtered out: 58.446975510921106\n"
     ]
    }
   ],
   "source": [
    "\n",
    "\n",
    "import pysam\n",
    "bamfile = pysam.AlignmentFile(\"/sbgenomics/project-files/merged-tumor.bam\", \"rb\")\n",
    "\n",
    "total = pysam.AlignmentFile.count(bamfile)\n",
    "print(\"Total number of reads:\", str(total), \"\\n\")\n",
    "\n",
    "i = 0\n",
    "num_unmapped = 0\n",
    "num_qual_zero = 0\n",
    "num_qual_nonzero = 0\n",
    "qual = 0\n",
    "for read in bamfile.fetch():\n",
    "    i += 1\n",
    "    if i == 1:\n",
    "        print(\"Flag value of\", \"1st read:\", str(read.flag))\n",
    "    elif i == 2:\n",
    "        print(\"Flag value of\", \"2nd read:\", str(read.flag))\n",
    "    elif i == 3:\n",
    "        print(\"Flag value of\", \"3rd read:\", str(read.flag), \"\\n\")\n",
    "    \n",
    "    if read.is_unmapped:\n",
    "        num_unmapped += 1\n",
    "    if read.mapping_quality == 0:\n",
    "        num_qual_zero += 1\n",
    "    else:\n",
    "        num_qual_nonzero += 1\n",
    "    qual += read.mapping_quality\n",
    "    \n",
    "    if i == 26:\n",
    "        print(\"26th read\")\n",
    "        print(\"Query name:\", str(read.query_name))\n",
    "        print(\"Sequence:\", str(read.query_sequence))\n",
    "        print(\"Flag:\", str(read.flag))\n",
    "        print(\"Reference ID:\", str(read.reference_id))\n",
    "        print(\"Reference start:\", str(read.reference_start))\n",
    "        print(\"Mapping quality:\", str(read.mapping_quality))\n",
    "        print(\"Cigar:\", str(read.cigar))\n",
    "        print(\"Next ref ID:\", str(read.next_reference_id))\n",
    "        print(\"Next ref start:\", str(read.next_reference_start))\n",
    "        print(\"Query qualities:\", str(read.query_qualities))\n",
    "        print(\"Tags:\", str(read.tags), \"\\n\")\n",
    "avg = qual/total\n",
    "avg_nonzero = qual/num_qual_nonzero\n",
    "print(\"Unmapped reads:\", str(num_unmapped))\n",
    "print(\"Reads with mapping quality 0:\", str(num_qual_zero))   \n",
    "print(\"Average mapping quality:\", str(avg))\n",
    "print(\"Average mapping quality, 0 quality filtered out:\", str(avg_nonzero))\n",
    "\n"
   ]
  },
  {
   "cell_type": "code",
   "execution_count": null,
   "metadata": {},
   "outputs": [],
   "source": []
  }
 ],
 "metadata": {
  "kernelspec": {
   "display_name": "Python 3",
   "language": "python",
   "name": "python3"
  },
  "language_info": {
   "codemirror_mode": {
    "name": "ipython",
    "version": 3
   },
   "file_extension": ".py",
   "mimetype": "text/x-python",
   "name": "python",
   "nbconvert_exporter": "python",
   "pygments_lexer": "ipython3",
   "version": "3.6.3"
  }
 },
 "nbformat": 4,
 "nbformat_minor": 2
}
